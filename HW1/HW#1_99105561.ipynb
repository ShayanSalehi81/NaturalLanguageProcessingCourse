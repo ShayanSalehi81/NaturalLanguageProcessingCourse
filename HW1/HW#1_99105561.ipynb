{
 "cells": [
  {
   "cell_type": "markdown",
   "metadata": {},
   "source": [
    "<style>\n",
    ".div-content {\n",
    "    font-family: \"XB Niloofar\", sans-serif;\n",
    "}\n",
    "h1, h2, h3 {\n",
    "    font-family: \"B Titr\", sans-serif;\n",
    "}\n",
    "</style>\n",
    "\n",
    "<div class=\"div-content\" dir=\"rtl\">\n",
    "    <h1>تمرین اول - کاوش متن</h1>\n",
    "    نام و نام‌خانوادگی: شایان صالحی<br>\n",
    "    شماره دانشجویی: ۹۹۱۰۵۵۶۱\n",
    "</div>"
   ]
  },
  {
   "cell_type": "code",
   "execution_count": 1,
   "metadata": {},
   "outputs": [
    {
     "name": "stdout",
     "output_type": "stream",
     "text": [
      "Requirement already satisfied: requests in c:\\users\\eye patch\\appdata\\local\\programs\\python\\python310\\lib\\site-packages (2.27.1)\n",
      "Requirement already satisfied: urllib3<1.27,>=1.21.1 in c:\\users\\eye patch\\appdata\\local\\programs\\python\\python310\\lib\\site-packages (from requests) (1.26.8)\n",
      "Requirement already satisfied: charset-normalizer~=2.0.0 in c:\\users\\eye patch\\appdata\\local\\programs\\python\\python310\\lib\\site-packages (from requests) (2.0.11)\n",
      "Requirement already satisfied: idna<4,>=2.5 in c:\\users\\eye patch\\appdata\\local\\programs\\python\\python310\\lib\\site-packages (from requests) (3.3)\n",
      "Requirement already satisfied: certifi>=2017.4.17 in c:\\users\\eye patch\\appdata\\local\\programs\\python\\python310\\lib\\site-packages (from requests) (2021.10.8)\n",
      "Note: you may need to restart the kernel to use updated packages.\n"
     ]
    },
    {
     "name": "stderr",
     "output_type": "stream",
     "text": [
      "WARNING: You are using pip version 22.0.2; however, version 24.0 is available.\n",
      "You should consider upgrading via the 'c:\\Users\\Eye Patch\\AppData\\Local\\Programs\\Python\\Python310\\python.exe -m pip install --upgrade pip' command.\n"
     ]
    },
    {
     "name": "stdout",
     "output_type": "stream",
     "text": [
      "Requirement already satisfied: beautifulsoup4 in c:\\users\\eye patch\\appdata\\local\\programs\\python\\python310\\lib\\site-packages (4.10.0)\n",
      "Requirement already satisfied: soupsieve>1.2 in c:\\users\\eye patch\\appdata\\local\\programs\\python\\python310\\lib\\site-packages (from beautifulsoup4) (2.3.1)\n",
      "Note: you may need to restart the kernel to use updated packages.\n"
     ]
    },
    {
     "name": "stderr",
     "output_type": "stream",
     "text": [
      "WARNING: You are using pip version 22.0.2; however, version 24.0 is available.\n",
      "You should consider upgrading via the 'c:\\Users\\Eye Patch\\AppData\\Local\\Programs\\Python\\Python310\\python.exe -m pip install --upgrade pip' command.\n"
     ]
    }
   ],
   "source": [
    "%pip install requests\n",
    "%pip install beautifulsoup4"
   ]
  }
 ],
 "metadata": {
  "kernelspec": {
   "display_name": "Python 3.10.2 64-bit",
   "language": "python",
   "name": "python3"
  },
  "language_info": {
   "codemirror_mode": {
    "name": "ipython",
    "version": 3
   },
   "file_extension": ".py",
   "mimetype": "text/x-python",
   "name": "python",
   "nbconvert_exporter": "python",
   "pygments_lexer": "ipython3",
   "version": "3.10.2"
  },
  "orig_nbformat": 4,
  "vscode": {
   "interpreter": {
    "hash": "8ddf083485a0aeb8e2e9f0f84ea0d280bea8d5210ac59b726aedf398fc66098f"
   }
  }
 },
 "nbformat": 4,
 "nbformat_minor": 2
}
