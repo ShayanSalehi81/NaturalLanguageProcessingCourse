{
 "cells": [
  {
   "cell_type": "markdown",
   "metadata": {},
   "source": [
    "# *Crawling Dynamic Sites*"
   ]
  },
  {
   "cell_type": "code",
   "execution_count": 1,
   "metadata": {},
   "outputs": [
    {
     "name": "stdout",
     "output_type": "stream",
     "text": [
      "Requirement already satisfied: selenium in c:\\users\\eye patch\\appdata\\local\\packages\\pythonsoftwarefoundation.python.3.10_qbz5n2kfra8p0\\localcache\\local-packages\\python310\\site-packages (4.17.2)\n",
      "Requirement already satisfied: certifi>=2021.10.8 in c:\\users\\eye patch\\appdata\\local\\packages\\pythonsoftwarefoundation.python.3.10_qbz5n2kfra8p0\\localcache\\local-packages\\python310\\site-packages (from selenium) (2022.12.7)\n",
      "Requirement already satisfied: urllib3[socks]<3,>=1.26 in c:\\users\\eye patch\\appdata\\local\\packages\\pythonsoftwarefoundation.python.3.10_qbz5n2kfra8p0\\localcache\\local-packages\\python310\\site-packages (from selenium) (1.26.16)\n",
      "Requirement already satisfied: trio-websocket~=0.9 in c:\\users\\eye patch\\appdata\\local\\packages\\pythonsoftwarefoundation.python.3.10_qbz5n2kfra8p0\\localcache\\local-packages\\python310\\site-packages (from selenium) (0.11.1)\n",
      "Requirement already satisfied: typing_extensions>=4.9.0 in c:\\users\\eye patch\\appdata\\local\\packages\\pythonsoftwarefoundation.python.3.10_qbz5n2kfra8p0\\localcache\\local-packages\\python310\\site-packages (from selenium) (4.9.0)\n",
      "Requirement already satisfied: trio~=0.17 in c:\\users\\eye patch\\appdata\\local\\packages\\pythonsoftwarefoundation.python.3.10_qbz5n2kfra8p0\\localcache\\local-packages\\python310\\site-packages (from selenium) (0.24.0)\n",
      "Requirement already satisfied: outcome in c:\\users\\eye patch\\appdata\\local\\packages\\pythonsoftwarefoundation.python.3.10_qbz5n2kfra8p0\\localcache\\local-packages\\python310\\site-packages (from trio~=0.17->selenium) (1.3.0.post0)\n",
      "Requirement already satisfied: attrs>=20.1.0 in c:\\users\\eye patch\\appdata\\local\\packages\\pythonsoftwarefoundation.python.3.10_qbz5n2kfra8p0\\localcache\\local-packages\\python310\\site-packages (from trio~=0.17->selenium) (23.1.0)\n",
      "Requirement already satisfied: sniffio>=1.3.0 in c:\\users\\eye patch\\appdata\\local\\packages\\pythonsoftwarefoundation.python.3.10_qbz5n2kfra8p0\\localcache\\local-packages\\python310\\site-packages (from trio~=0.17->selenium) (1.3.0)\n",
      "Requirement already satisfied: cffi>=1.14 in c:\\users\\eye patch\\appdata\\local\\packages\\pythonsoftwarefoundation.python.3.10_qbz5n2kfra8p0\\localcache\\local-packages\\python310\\site-packages (from trio~=0.17->selenium) (1.16.0)\n",
      "Requirement already satisfied: exceptiongroup in c:\\users\\eye patch\\appdata\\local\\packages\\pythonsoftwarefoundation.python.3.10_qbz5n2kfra8p0\\localcache\\local-packages\\python310\\site-packages (from trio~=0.17->selenium) (1.2.0)\n",
      "Requirement already satisfied: sortedcontainers in c:\\users\\eye patch\\appdata\\local\\packages\\pythonsoftwarefoundation.python.3.10_qbz5n2kfra8p0\\localcache\\local-packages\\python310\\site-packages (from trio~=0.17->selenium) (2.4.0)\n",
      "Requirement already satisfied: idna in c:\\users\\eye patch\\appdata\\local\\packages\\pythonsoftwarefoundation.python.3.10_qbz5n2kfra8p0\\localcache\\local-packages\\python310\\site-packages (from trio~=0.17->selenium) (2.10)\n",
      "Requirement already satisfied: wsproto>=0.14 in c:\\users\\eye patch\\appdata\\local\\packages\\pythonsoftwarefoundation.python.3.10_qbz5n2kfra8p0\\localcache\\local-packages\\python310\\site-packages (from trio-websocket~=0.9->selenium) (1.2.0)\n",
      "Requirement already satisfied: PySocks!=1.5.7,<2.0,>=1.5.6 in c:\\users\\eye patch\\appdata\\local\\packages\\pythonsoftwarefoundation.python.3.10_qbz5n2kfra8p0\\localcache\\local-packages\\python310\\site-packages (from urllib3[socks]<3,>=1.26->selenium) (1.7.1)\n",
      "Requirement already satisfied: pycparser in c:\\users\\eye patch\\appdata\\local\\packages\\pythonsoftwarefoundation.python.3.10_qbz5n2kfra8p0\\localcache\\local-packages\\python310\\site-packages (from cffi>=1.14->trio~=0.17->selenium) (2.21)\n",
      "Requirement already satisfied: h11<1,>=0.9.0 in c:\\users\\eye patch\\appdata\\local\\packages\\pythonsoftwarefoundation.python.3.10_qbz5n2kfra8p0\\localcache\\local-packages\\python310\\site-packages (from wsproto>=0.14->trio-websocket~=0.9->selenium) (0.9.0)\n",
      "Note: you may need to restart the kernel to use updated packages.\n"
     ]
    },
    {
     "name": "stderr",
     "output_type": "stream",
     "text": [
      "\n",
      "[notice] A new release of pip is available: 23.0 -> 24.0\n",
      "[notice] To update, run: C:\\Users\\Eye Patch\\AppData\\Local\\Microsoft\\WindowsApps\\PythonSoftwareFoundation.Python.3.10_qbz5n2kfra8p0\\python.exe -m pip install --upgrade pip\n"
     ]
    }
   ],
   "source": [
    "%pip install selenium"
   ]
  },
  {
   "cell_type": "code",
   "execution_count": 2,
   "metadata": {},
   "outputs": [],
   "source": [
    "from selenium import webdriver\n",
    "from selenium.webdriver.common.keys import Keys\n",
    "from selenium.webdriver.common.by import By"
   ]
  },
  {
   "cell_type": "code",
   "execution_count": 4,
   "metadata": {},
   "outputs": [],
   "source": [
    "from selenium.webdriver.chrome.service import Service"
   ]
  },
  {
   "cell_type": "code",
   "execution_count": 12,
   "metadata": {},
   "outputs": [],
   "source": [
    "driver = webdriver.Chrome()"
   ]
  },
  {
   "cell_type": "code",
   "execution_count": 8,
   "metadata": {},
   "outputs": [],
   "source": [
    "driver.get('http://varzesh3.com')"
   ]
  },
  {
   "cell_type": "code",
   "execution_count": 13,
   "metadata": {},
   "outputs": [],
   "source": [
    "driver.close()"
   ]
  },
  {
   "cell_type": "code",
   "execution_count": 19,
   "metadata": {},
   "outputs": [],
   "source": [
    "driver = webdriver.Chrome()\n",
    "driver.get('http://google.com') \n",
    "\n",
    "element = driver.find_element(By.ID, 'APjFqb')\n",
    "\n",
    "element.send_keys('NLP')\n",
    "\n",
    "# element2 = driver.find_element(By.CLASS_NAME, 'gNO89b')\n",
    "# element2.click()\n",
    "\n",
    "\n",
    "# element = driver.find_element(By.NAME, \"textarea\")\n",
    "# element = driver.find_element(By.XPATH, \"//input[@id='passwd-id']\")\n",
    "# element = driver.find_element(By.CSS_SELECTOR, \"input#passwd-id\")"
   ]
  },
  {
   "cell_type": "code",
   "execution_count": 20,
   "metadata": {},
   "outputs": [],
   "source": [
    "element2 = driver.find_element(By.CLASS_NAME, 'gNO89b')\n",
    "element2.click()"
   ]
  },
  {
   "cell_type": "code",
   "execution_count": 22,
   "metadata": {},
   "outputs": [],
   "source": [
    "driver = webdriver.Chrome()\n",
    "driver.get('https://docs.google.com/forms/d/e/1FAIpQLSeI8_vYyaJgM7SJM4Y9AWfLq-tglWZh6yt7bEXEOJr_L-hV1A/viewform?formkey=dGx0b1ZrTnoyZDgtYXItMWVBdVlQQWc6MQ')"
   ]
  },
  {
   "cell_type": "code",
   "execution_count": 24,
   "metadata": {},
   "outputs": [],
   "source": [
    "import time\n",
    "\n",
    "element = driver.find_element(By.XPATH, \"//*[@id='mG61Hd']/div[2]/div/div[2]/div[3]/div/div/div[2]/div[1]/div/span\")\n",
    "\n",
    "all_options = element.find_elements(By.TAG_NAME, \"label\")\n",
    "for option in all_options:\n",
    "    option.click()\n",
    "    time.sleep(2)"
   ]
  },
  {
   "cell_type": "code",
   "execution_count": null,
   "metadata": {},
   "outputs": [],
   "source": [
    "# ID = \"id\"\n",
    "# NAME = \"name\"\n",
    "# XPATH = \"xpath\"\n",
    "# LINK_TEXT = \"link text\"\n",
    "# PARTIAL_LINK_TEXT = \"partial link text\"\n",
    "# TAG_NAME = \"tag name\"\n",
    "# CLASS_NAME = \"class name\"\n",
    "# CSS_SELECTOR = \"css selector\"\n",
    "# Selenium IDE is a great tool for handling which part you have done in a site"
   ]
  },
  {
   "cell_type": "markdown",
   "metadata": {},
   "source": [
    "# *Requesting API*"
   ]
  },
  {
   "cell_type": "code",
   "execution_count": 1,
   "metadata": {},
   "outputs": [
    {
     "data": {
      "text/plain": [
       "{'userId': 1, 'id': 1, 'title': 'delectus aut autem', 'completed': False}"
      ]
     },
     "execution_count": 1,
     "metadata": {},
     "output_type": "execute_result"
    }
   ],
   "source": [
    "import requests\n",
    "\n",
    "api_url = \"https://jsonplaceholder.typicode.com/todos/1\"\n",
    "response = requests.get(api_url)\n",
    "response.json()"
   ]
  },
  {
   "cell_type": "code",
   "execution_count": 2,
   "metadata": {},
   "outputs": [
    {
     "data": {
      "text/plain": [
       "{'userId': 1, 'title': 'Buy milk', 'completed': False, 'id': 201}"
      ]
     },
     "execution_count": 2,
     "metadata": {},
     "output_type": "execute_result"
    }
   ],
   "source": [
    "api_url = \"https://jsonplaceholder.typicode.com/todos\"\n",
    "todo = {\"userId\": 1, \"title\": \"Buy milk\", \"completed\": False}\n",
    "response = requests.post(api_url, json=todo)\n",
    "response.json()"
   ]
  },
  {
   "cell_type": "markdown",
   "metadata": {},
   "source": [
    "# *Preprocessing the text*"
   ]
  },
  {
   "cell_type": "code",
   "execution_count": 6,
   "metadata": {},
   "outputs": [
    {
     "name": "stdout",
     "output_type": "stream",
     "text": [
      "Collecting nltk\n",
      "  Downloading nltk-3.8.1-py3-none-any.whl (1.5 MB)\n",
      "     ---------------------------------------- 0.0/1.5 MB ? eta -:--:--\n",
      "     ---------------------------------------- 0.0/1.5 MB ? eta -:--:--\n",
      "      --------------------------------------- 0.0/1.5 MB 435.7 kB/s eta 0:00:04\n",
      "     - -------------------------------------- 0.0/1.5 MB 245.8 kB/s eta 0:00:06\n",
      "     - -------------------------------------- 0.1/1.5 MB 326.1 kB/s eta 0:00:05\n",
      "     - -------------------------------------- 0.1/1.5 MB 326.8 kB/s eta 0:00:05\n",
      "     -- ------------------------------------- 0.1/1.5 MB 409.6 kB/s eta 0:00:04\n",
      "     --- ------------------------------------ 0.1/1.5 MB 399.4 kB/s eta 0:00:04\n",
      "     ---- ----------------------------------- 0.2/1.5 MB 398.2 kB/s eta 0:00:04\n",
      "     ---- ----------------------------------- 0.2/1.5 MB 419.0 kB/s eta 0:00:04\n",
      "     ----- ---------------------------------- 0.2/1.5 MB 436.8 kB/s eta 0:00:04\n",
      "     ----- ---------------------------------- 0.2/1.5 MB 443.4 kB/s eta 0:00:03\n",
      "     ------ --------------------------------- 0.2/1.5 MB 436.6 kB/s eta 0:00:03\n",
      "     ------- -------------------------------- 0.3/1.5 MB 448.2 kB/s eta 0:00:03\n",
      "     ------- -------------------------------- 0.3/1.5 MB 442.4 kB/s eta 0:00:03\n",
      "     -------- ------------------------------- 0.3/1.5 MB 446.5 kB/s eta 0:00:03\n",
      "     -------- ------------------------------- 0.3/1.5 MB 455.7 kB/s eta 0:00:03\n",
      "     --------- ------------------------------ 0.4/1.5 MB 464.2 kB/s eta 0:00:03\n",
      "     ---------- ----------------------------- 0.4/1.5 MB 457.6 kB/s eta 0:00:03\n",
      "     ---------- ----------------------------- 0.4/1.5 MB 456.4 kB/s eta 0:00:03\n",
      "     ----------- ---------------------------- 0.4/1.5 MB 462.9 kB/s eta 0:00:03\n",
      "     ----------- ---------------------------- 0.5/1.5 MB 469.4 kB/s eta 0:00:03\n",
      "     ------------ --------------------------- 0.5/1.5 MB 463.6 kB/s eta 0:00:03\n",
      "     ------------- -------------------------- 0.5/1.5 MB 459.7 kB/s eta 0:00:03\n",
      "     -------------- ------------------------- 0.5/1.5 MB 470.5 kB/s eta 0:00:03\n",
      "     -------------- ------------------------- 0.5/1.5 MB 466.7 kB/s eta 0:00:03\n",
      "     --------------- ------------------------ 0.6/1.5 MB 462.0 kB/s eta 0:00:03\n",
      "     --------------- ------------------------ 0.6/1.5 MB 462.0 kB/s eta 0:00:03\n",
      "     --------------- ------------------------ 0.6/1.5 MB 462.0 kB/s eta 0:00:03\n",
      "     --------------- ------------------------ 0.6/1.5 MB 462.0 kB/s eta 0:00:03\n",
      "     --------------- ------------------------ 0.6/1.5 MB 462.0 kB/s eta 0:00:03\n",
      "     --------------- ------------------------ 0.6/1.5 MB 462.0 kB/s eta 0:00:03\n",
      "     --------------- ------------------------ 0.6/1.5 MB 462.0 kB/s eta 0:00:03\n",
      "     --------------- ------------------------ 0.6/1.5 MB 462.0 kB/s eta 0:00:03\n",
      "     --------------- ------------------------ 0.6/1.5 MB 462.0 kB/s eta 0:00:03\n",
      "     --------------- ------------------------ 0.6/1.5 MB 462.0 kB/s eta 0:00:03\n",
      "     --------------------- ------------------ 0.8/1.5 MB 471.6 kB/s eta 0:00:02\n",
      "     --------------------- ------------------ 0.8/1.5 MB 470.6 kB/s eta 0:00:02\n",
      "     --------------------- ------------------ 0.8/1.5 MB 468.1 kB/s eta 0:00:02\n",
      "     ----------------------- ---------------- 0.9/1.5 MB 470.5 kB/s eta 0:00:02\n",
      "     ----------------------- ---------------- 0.9/1.5 MB 468.0 kB/s eta 0:00:02\n",
      "     ----------------------- ---------------- 0.9/1.5 MB 467.2 kB/s eta 0:00:02\n",
      "     ------------------------ --------------- 0.9/1.5 MB 465.0 kB/s eta 0:00:02\n",
      "     ------------------------- -------------- 1.0/1.5 MB 467.3 kB/s eta 0:00:02\n",
      "     ------------------------- -------------- 1.0/1.5 MB 465.2 kB/s eta 0:00:02\n",
      "     -------------------------- ------------- 1.0/1.5 MB 465.9 kB/s eta 0:00:02\n",
      "     -------------------------- ------------- 1.0/1.5 MB 468.7 kB/s eta 0:00:02\n",
      "     --------------------------- ------------ 1.0/1.5 MB 469.5 kB/s eta 0:00:01\n",
      "     ---------------------------- ----------- 1.1/1.5 MB 468.8 kB/s eta 0:00:01\n",
      "     ----------------------------- ---------- 1.1/1.5 MB 469.3 kB/s eta 0:00:01\n",
      "     ----------------------------- ---------- 1.1/1.5 MB 471.8 kB/s eta 0:00:01\n",
      "     ----------------------------- ---------- 1.1/1.5 MB 470.0 kB/s eta 0:00:01\n",
      "     ------------------------------ --------- 1.2/1.5 MB 470.4 kB/s eta 0:00:01\n",
      "     ------------------------------- -------- 1.2/1.5 MB 469.8 kB/s eta 0:00:01\n",
      "     ------------------------------- -------- 1.2/1.5 MB 470.4 kB/s eta 0:00:01\n",
      "     -------------------------------- ------- 1.2/1.5 MB 472.7 kB/s eta 0:00:01\n",
      "     --------------------------------- ------ 1.3/1.5 MB 473.0 kB/s eta 0:00:01\n",
      "     --------------------------------- ------ 1.3/1.5 MB 475.2 kB/s eta 0:00:01\n",
      "     ---------------------------------- ----- 1.3/1.5 MB 473.5 kB/s eta 0:00:01\n",
      "     ---------------------------------- ----- 1.3/1.5 MB 471.1 kB/s eta 0:00:01\n",
      "     ----------------------------------- ---- 1.3/1.5 MB 473.2 kB/s eta 0:00:01\n",
      "     ------------------------------------ --- 1.4/1.5 MB 473.7 kB/s eta 0:00:01\n",
      "     ------------------------------------ --- 1.4/1.5 MB 473.1 kB/s eta 0:00:01\n",
      "     ------------------------------------- -- 1.4/1.5 MB 473.4 kB/s eta 0:00:01\n",
      "     -------------------------------------- - 1.4/1.5 MB 475.3 kB/s eta 0:00:01\n",
      "     -------------------------------------- - 1.5/1.5 MB 473.9 kB/s eta 0:00:01\n",
      "     ---------------------------------------  1.5/1.5 MB 474.1 kB/s eta 0:00:01\n",
      "     ---------------------------------------- 1.5/1.5 MB 473.0 kB/s eta 0:00:00\n",
      "Requirement already satisfied: regex>=2021.8.3 in c:\\users\\eye patch\\appdata\\local\\packages\\pythonsoftwarefoundation.python.3.10_qbz5n2kfra8p0\\localcache\\local-packages\\python310\\site-packages (from nltk) (2022.10.31)\n",
      "Collecting joblib\n",
      "  Downloading joblib-1.3.2-py3-none-any.whl (302 kB)\n",
      "     ---------------------------------------- 0.0/302.2 kB ? eta -:--:--\n",
      "     ---------------------------------------- 0.0/302.2 kB ? eta -:--:--\n",
      "     - -------------------------------------- 10.2/302.2 kB ? eta -:--:--\n",
      "     ----- ------------------------------- 41.0/302.2 kB 495.5 kB/s eta 0:00:01\n",
      "     ------- ----------------------------- 61.4/302.2 kB 544.7 kB/s eta 0:00:01\n",
      "     ---------- -------------------------- 81.9/302.2 kB 508.4 kB/s eta 0:00:01\n",
      "     ------------- ---------------------- 112.6/302.2 kB 504.4 kB/s eta 0:00:01\n",
      "     -------------- --------------------- 122.9/302.2 kB 481.4 kB/s eta 0:00:01\n",
      "     ------------------- ---------------- 163.8/302.2 kB 517.2 kB/s eta 0:00:01\n",
      "     -------------------- --------------- 174.1/302.2 kB 499.5 kB/s eta 0:00:01\n",
      "     ------------------------ ----------- 204.8/302.2 kB 479.2 kB/s eta 0:00:01\n",
      "     -------------------------- --------- 225.3/302.2 kB 492.1 kB/s eta 0:00:01\n",
      "     ----------------------------- ------ 245.8/302.2 kB 502.2 kB/s eta 0:00:01\n",
      "     -------------------------------- --- 276.5/302.2 kB 501.4 kB/s eta 0:00:01\n",
      "     ------------------------------------ 302.2/302.2 kB 491.5 kB/s eta 0:00:00\n",
      "Requirement already satisfied: tqdm in c:\\users\\eye patch\\appdata\\local\\packages\\pythonsoftwarefoundation.python.3.10_qbz5n2kfra8p0\\localcache\\local-packages\\python310\\site-packages (from nltk) (4.65.0)\n",
      "Requirement already satisfied: click in c:\\users\\eye patch\\appdata\\local\\packages\\pythonsoftwarefoundation.python.3.10_qbz5n2kfra8p0\\localcache\\local-packages\\python310\\site-packages (from nltk) (8.1.7)\n",
      "Requirement already satisfied: colorama in c:\\users\\eye patch\\appdata\\local\\packages\\pythonsoftwarefoundation.python.3.10_qbz5n2kfra8p0\\localcache\\local-packages\\python310\\site-packages (from click->nltk) (0.4.6)\n",
      "Installing collected packages: joblib, nltk\n",
      "Successfully installed joblib-1.3.2 nltk-3.8.1\n",
      "Note: you may need to restart the kernel to use updated packages.\n"
     ]
    },
    {
     "name": "stderr",
     "output_type": "stream",
     "text": [
      "\n",
      "[notice] A new release of pip is available: 23.0 -> 24.0\n",
      "[notice] To update, run: C:\\Users\\Eye Patch\\AppData\\Local\\Microsoft\\WindowsApps\\PythonSoftwareFoundation.Python.3.10_qbz5n2kfra8p0\\python.exe -m pip install --upgrade pip\n"
     ]
    }
   ],
   "source": [
    "%pip install nltk"
   ]
  },
  {
   "cell_type": "code",
   "execution_count": 7,
   "metadata": {},
   "outputs": [
    {
     "ename": "LookupError",
     "evalue": "\n**********************************************************************\n  Resource \u001b[93mbrown\u001b[0m not found.\n  Please use the NLTK Downloader to obtain the resource:\n\n  \u001b[31m>>> import nltk\n  >>> nltk.download('brown')\n  \u001b[0m\n  For more information see: https://www.nltk.org/data.html\n\n  Attempted to load \u001b[93mcorpora/brown\u001b[0m\n\n  Searched in:\n    - 'C:\\\\Users\\\\Eye Patch/nltk_data'\n    - 'C:\\\\Program Files\\\\WindowsApps\\\\PythonSoftwareFoundation.Python.3.10_3.10.3056.0_x64__qbz5n2kfra8p0\\\\nltk_data'\n    - 'C:\\\\Program Files\\\\WindowsApps\\\\PythonSoftwareFoundation.Python.3.10_3.10.3056.0_x64__qbz5n2kfra8p0\\\\share\\\\nltk_data'\n    - 'C:\\\\Program Files\\\\WindowsApps\\\\PythonSoftwareFoundation.Python.3.10_3.10.3056.0_x64__qbz5n2kfra8p0\\\\lib\\\\nltk_data'\n    - 'C:\\\\Users\\\\Eye Patch\\\\AppData\\\\Roaming\\\\nltk_data'\n    - 'C:\\\\nltk_data'\n    - 'D:\\\\nltk_data'\n    - 'E:\\\\nltk_data'\n**********************************************************************\n",
     "output_type": "error",
     "traceback": [
      "\u001b[1;31m---------------------------------------------------------------------------\u001b[0m",
      "\u001b[1;31mLookupError\u001b[0m                               Traceback (most recent call last)",
      "File \u001b[1;32m~\\AppData\\Local\\Packages\\PythonSoftwareFoundation.Python.3.10_qbz5n2kfra8p0\\LocalCache\\local-packages\\Python310\\site-packages\\nltk\\corpus\\util.py:84\u001b[0m, in \u001b[0;36mLazyCorpusLoader.__load\u001b[1;34m(self)\u001b[0m\n\u001b[0;32m     83\u001b[0m \u001b[39mtry\u001b[39;00m:\n\u001b[1;32m---> 84\u001b[0m     root \u001b[39m=\u001b[39m nltk\u001b[39m.\u001b[39;49mdata\u001b[39m.\u001b[39;49mfind(\u001b[39mf\u001b[39;49m\u001b[39m\"\u001b[39;49m\u001b[39m{\u001b[39;49;00m\u001b[39mself\u001b[39;49m\u001b[39m.\u001b[39;49msubdir\u001b[39m}\u001b[39;49;00m\u001b[39m/\u001b[39;49m\u001b[39m{\u001b[39;49;00mzip_name\u001b[39m}\u001b[39;49;00m\u001b[39m\"\u001b[39;49m)\n\u001b[0;32m     85\u001b[0m \u001b[39mexcept\u001b[39;00m \u001b[39mLookupError\u001b[39;00m:\n",
      "File \u001b[1;32m~\\AppData\\Local\\Packages\\PythonSoftwareFoundation.Python.3.10_qbz5n2kfra8p0\\LocalCache\\local-packages\\Python310\\site-packages\\nltk\\data.py:583\u001b[0m, in \u001b[0;36mfind\u001b[1;34m(resource_name, paths)\u001b[0m\n\u001b[0;32m    582\u001b[0m resource_not_found \u001b[39m=\u001b[39m \u001b[39mf\u001b[39m\u001b[39m\"\u001b[39m\u001b[39m\\n\u001b[39;00m\u001b[39m{\u001b[39;00msep\u001b[39m}\u001b[39;00m\u001b[39m\\n\u001b[39;00m\u001b[39m{\u001b[39;00mmsg\u001b[39m}\u001b[39;00m\u001b[39m\\n\u001b[39;00m\u001b[39m{\u001b[39;00msep\u001b[39m}\u001b[39;00m\u001b[39m\\n\u001b[39;00m\u001b[39m\"\u001b[39m\n\u001b[1;32m--> 583\u001b[0m \u001b[39mraise\u001b[39;00m \u001b[39mLookupError\u001b[39;00m(resource_not_found)\n",
      "\u001b[1;31mLookupError\u001b[0m: \n**********************************************************************\n  Resource \u001b[93mbrown\u001b[0m not found.\n  Please use the NLTK Downloader to obtain the resource:\n\n  \u001b[31m>>> import nltk\n  >>> nltk.download('brown')\n  \u001b[0m\n  For more information see: https://www.nltk.org/data.html\n\n  Attempted to load \u001b[93mcorpora/brown.zip/brown/\u001b[0m\n\n  Searched in:\n    - 'C:\\\\Users\\\\Eye Patch/nltk_data'\n    - 'C:\\\\Program Files\\\\WindowsApps\\\\PythonSoftwareFoundation.Python.3.10_3.10.3056.0_x64__qbz5n2kfra8p0\\\\nltk_data'\n    - 'C:\\\\Program Files\\\\WindowsApps\\\\PythonSoftwareFoundation.Python.3.10_3.10.3056.0_x64__qbz5n2kfra8p0\\\\share\\\\nltk_data'\n    - 'C:\\\\Program Files\\\\WindowsApps\\\\PythonSoftwareFoundation.Python.3.10_3.10.3056.0_x64__qbz5n2kfra8p0\\\\lib\\\\nltk_data'\n    - 'C:\\\\Users\\\\Eye Patch\\\\AppData\\\\Roaming\\\\nltk_data'\n    - 'C:\\\\nltk_data'\n    - 'D:\\\\nltk_data'\n    - 'E:\\\\nltk_data'\n**********************************************************************\n",
      "\nDuring handling of the above exception, another exception occurred:\n",
      "\u001b[1;31mLookupError\u001b[0m                               Traceback (most recent call last)",
      "Cell \u001b[1;32mIn[7], line 8\u001b[0m\n\u001b[0;32m      5\u001b[0m \u001b[38;5;28;01mfrom\u001b[39;00m \u001b[38;5;21;01mnltk\u001b[39;00m \u001b[38;5;28;01mimport\u001b[39;00m word_tokenize\n\u001b[0;32m      6\u001b[0m \u001b[38;5;28;01mimport\u001b[39;00m \u001b[38;5;21;01mstring\u001b[39;00m\n\u001b[1;32m----> 8\u001b[0m all_categories \u001b[38;5;241m=\u001b[39m \u001b[43mbrown\u001b[49m\u001b[38;5;241;43m.\u001b[39;49m\u001b[43mcategories\u001b[49m()\n",
      "File \u001b[1;32m~\\AppData\\Local\\Packages\\PythonSoftwareFoundation.Python.3.10_qbz5n2kfra8p0\\LocalCache\\local-packages\\Python310\\site-packages\\nltk\\corpus\\util.py:121\u001b[0m, in \u001b[0;36mLazyCorpusLoader.__getattr__\u001b[1;34m(self, attr)\u001b[0m\n\u001b[0;32m    118\u001b[0m \u001b[39mif\u001b[39;00m attr \u001b[39m==\u001b[39m \u001b[39m\"\u001b[39m\u001b[39m__bases__\u001b[39m\u001b[39m\"\u001b[39m:\n\u001b[0;32m    119\u001b[0m     \u001b[39mraise\u001b[39;00m \u001b[39mAttributeError\u001b[39;00m(\u001b[39m\"\u001b[39m\u001b[39mLazyCorpusLoader object has no attribute \u001b[39m\u001b[39m'\u001b[39m\u001b[39m__bases__\u001b[39m\u001b[39m'\u001b[39m\u001b[39m\"\u001b[39m)\n\u001b[1;32m--> 121\u001b[0m \u001b[39mself\u001b[39;49m\u001b[39m.\u001b[39;49m__load()\n\u001b[0;32m    122\u001b[0m \u001b[39m# This looks circular, but its not, since __load() changes our\u001b[39;00m\n\u001b[0;32m    123\u001b[0m \u001b[39m# __class__ to something new:\u001b[39;00m\n\u001b[0;32m    124\u001b[0m \u001b[39mreturn\u001b[39;00m \u001b[39mgetattr\u001b[39m(\u001b[39mself\u001b[39m, attr)\n",
      "File \u001b[1;32m~\\AppData\\Local\\Packages\\PythonSoftwareFoundation.Python.3.10_qbz5n2kfra8p0\\LocalCache\\local-packages\\Python310\\site-packages\\nltk\\corpus\\util.py:86\u001b[0m, in \u001b[0;36mLazyCorpusLoader.__load\u001b[1;34m(self)\u001b[0m\n\u001b[0;32m     84\u001b[0m             root \u001b[39m=\u001b[39m nltk\u001b[39m.\u001b[39mdata\u001b[39m.\u001b[39mfind(\u001b[39mf\u001b[39m\u001b[39m\"\u001b[39m\u001b[39m{\u001b[39;00m\u001b[39mself\u001b[39m\u001b[39m.\u001b[39msubdir\u001b[39m}\u001b[39;00m\u001b[39m/\u001b[39m\u001b[39m{\u001b[39;00mzip_name\u001b[39m}\u001b[39;00m\u001b[39m\"\u001b[39m)\n\u001b[0;32m     85\u001b[0m         \u001b[39mexcept\u001b[39;00m \u001b[39mLookupError\u001b[39;00m:\n\u001b[1;32m---> 86\u001b[0m             \u001b[39mraise\u001b[39;00m e\n\u001b[0;32m     88\u001b[0m \u001b[39m# Load the corpus.\u001b[39;00m\n\u001b[0;32m     89\u001b[0m corpus \u001b[39m=\u001b[39m \u001b[39mself\u001b[39m\u001b[39m.\u001b[39m__reader_cls(root, \u001b[39m*\u001b[39m\u001b[39mself\u001b[39m\u001b[39m.\u001b[39m__args, \u001b[39m*\u001b[39m\u001b[39m*\u001b[39m\u001b[39mself\u001b[39m\u001b[39m.\u001b[39m__kwargs)\n",
      "File \u001b[1;32m~\\AppData\\Local\\Packages\\PythonSoftwareFoundation.Python.3.10_qbz5n2kfra8p0\\LocalCache\\local-packages\\Python310\\site-packages\\nltk\\corpus\\util.py:81\u001b[0m, in \u001b[0;36mLazyCorpusLoader.__load\u001b[1;34m(self)\u001b[0m\n\u001b[0;32m     79\u001b[0m \u001b[39melse\u001b[39;00m:\n\u001b[0;32m     80\u001b[0m     \u001b[39mtry\u001b[39;00m:\n\u001b[1;32m---> 81\u001b[0m         root \u001b[39m=\u001b[39m nltk\u001b[39m.\u001b[39;49mdata\u001b[39m.\u001b[39;49mfind(\u001b[39mf\u001b[39;49m\u001b[39m\"\u001b[39;49m\u001b[39m{\u001b[39;49;00m\u001b[39mself\u001b[39;49m\u001b[39m.\u001b[39;49msubdir\u001b[39m}\u001b[39;49;00m\u001b[39m/\u001b[39;49m\u001b[39m{\u001b[39;49;00m\u001b[39mself\u001b[39;49m\u001b[39m.\u001b[39;49m__name\u001b[39m}\u001b[39;49;00m\u001b[39m\"\u001b[39;49m)\n\u001b[0;32m     82\u001b[0m     \u001b[39mexcept\u001b[39;00m \u001b[39mLookupError\u001b[39;00m \u001b[39mas\u001b[39;00m e:\n\u001b[0;32m     83\u001b[0m         \u001b[39mtry\u001b[39;00m:\n",
      "File \u001b[1;32m~\\AppData\\Local\\Packages\\PythonSoftwareFoundation.Python.3.10_qbz5n2kfra8p0\\LocalCache\\local-packages\\Python310\\site-packages\\nltk\\data.py:583\u001b[0m, in \u001b[0;36mfind\u001b[1;34m(resource_name, paths)\u001b[0m\n\u001b[0;32m    581\u001b[0m sep \u001b[39m=\u001b[39m \u001b[39m\"\u001b[39m\u001b[39m*\u001b[39m\u001b[39m\"\u001b[39m \u001b[39m*\u001b[39m \u001b[39m70\u001b[39m\n\u001b[0;32m    582\u001b[0m resource_not_found \u001b[39m=\u001b[39m \u001b[39mf\u001b[39m\u001b[39m\"\u001b[39m\u001b[39m\\n\u001b[39;00m\u001b[39m{\u001b[39;00msep\u001b[39m}\u001b[39;00m\u001b[39m\\n\u001b[39;00m\u001b[39m{\u001b[39;00mmsg\u001b[39m}\u001b[39;00m\u001b[39m\\n\u001b[39;00m\u001b[39m{\u001b[39;00msep\u001b[39m}\u001b[39;00m\u001b[39m\\n\u001b[39;00m\u001b[39m\"\u001b[39m\n\u001b[1;32m--> 583\u001b[0m \u001b[39mraise\u001b[39;00m \u001b[39mLookupError\u001b[39;00m(resource_not_found)\n",
      "\u001b[1;31mLookupError\u001b[0m: \n**********************************************************************\n  Resource \u001b[93mbrown\u001b[0m not found.\n  Please use the NLTK Downloader to obtain the resource:\n\n  \u001b[31m>>> import nltk\n  >>> nltk.download('brown')\n  \u001b[0m\n  For more information see: https://www.nltk.org/data.html\n\n  Attempted to load \u001b[93mcorpora/brown\u001b[0m\n\n  Searched in:\n    - 'C:\\\\Users\\\\Eye Patch/nltk_data'\n    - 'C:\\\\Program Files\\\\WindowsApps\\\\PythonSoftwareFoundation.Python.3.10_3.10.3056.0_x64__qbz5n2kfra8p0\\\\nltk_data'\n    - 'C:\\\\Program Files\\\\WindowsApps\\\\PythonSoftwareFoundation.Python.3.10_3.10.3056.0_x64__qbz5n2kfra8p0\\\\share\\\\nltk_data'\n    - 'C:\\\\Program Files\\\\WindowsApps\\\\PythonSoftwareFoundation.Python.3.10_3.10.3056.0_x64__qbz5n2kfra8p0\\\\lib\\\\nltk_data'\n    - 'C:\\\\Users\\\\Eye Patch\\\\AppData\\\\Roaming\\\\nltk_data'\n    - 'C:\\\\nltk_data'\n    - 'D:\\\\nltk_data'\n    - 'E:\\\\nltk_data'\n**********************************************************************\n"
     ]
    }
   ],
   "source": [
    "import random \n",
    "import tqdm\n",
    "import nltk, re\n",
    "from nltk.corpus import brown\n",
    "from nltk import word_tokenize\n",
    "import string\n",
    "\n",
    "all_categories = brown.categories()"
   ]
  },
  {
   "cell_type": "code",
   "execution_count": 8,
   "metadata": {},
   "outputs": [
    {
     "name": "stdout",
     "output_type": "stream",
     "text": [
      "showing info https://raw.githubusercontent.com/nltk/nltk_data/gh-pages/index.xml\n"
     ]
    }
   ],
   "source": [
    "nltk.download()"
   ]
  },
  {
   "cell_type": "code",
   "execution_count": null,
   "metadata": {},
   "outputs": [],
   "source": [
    "all_categories"
   ]
  }
 ],
 "metadata": {
  "kernelspec": {
   "display_name": "Python 3.10.11 64-bit (microsoft store)",
   "language": "python",
   "name": "python3"
  },
  "language_info": {
   "codemirror_mode": {
    "name": "ipython",
    "version": 3
   },
   "file_extension": ".py",
   "mimetype": "text/x-python",
   "name": "python",
   "nbconvert_exporter": "python",
   "pygments_lexer": "ipython3",
   "version": "3.10.11"
  },
  "orig_nbformat": 4,
  "vscode": {
   "interpreter": {
    "hash": "eb9fd389b9551db91f27b5261dfa15e994275882b7468cc794db06c4e7515273"
   }
  }
 },
 "nbformat": 4,
 "nbformat_minor": 2
}
